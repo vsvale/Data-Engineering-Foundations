{
  "nbformat": 4,
  "nbformat_minor": 0,
  "metadata": {
    "colab": {
      "name": "Data Engineering Foundations.ipynb",
      "provenance": [],
      "collapsed_sections": [],
      "toc_visible": true,
      "authorship_tag": "ABX9TyP3wIEv9ECaJwVQOls/ZD/z",
      "include_colab_link": true
    },
    "kernelspec": {
      "name": "python3",
      "display_name": "Python 3"
    }
  },
  "cells": [
    {
      "cell_type": "markdown",
      "metadata": {
        "id": "view-in-github",
        "colab_type": "text"
      },
      "source": [
        "<a href=\"https://colab.research.google.com/github/vsvale/Data-Engineering-Foundations/blob/main/Data_Engineering_Foundations.ipynb\" target=\"_parent\"><img src=\"https://colab.research.google.com/assets/colab-badge.svg\" alt=\"Open In Colab\"/></a>"
      ]
    },
    {
      "cell_type": "markdown",
      "metadata": {
        "id": "x_-mG_pbWlGU"
      },
      "source": [
        "Baseado na prática do curso Data Engineering Foundations (https://www.linkedin.com/learning/data-engineering-foundations).<br>\n",
        "Tem como objetivo carregar dados de um dataset csv (https://www.kaggle.com/rounakbanik/the-movies-dataset) para um banco de dados, em seguida realizar operações ETL e gravar o dataframe spark resultante no banco."
      ]
    },
    {
      "cell_type": "code",
      "metadata": {
        "colab": {
          "base_uri": "https://localhost:8080/"
        },
        "id": "DKxgbYFZYv3V",
        "outputId": "205ad56e-e3a7-4cd5-ca6f-4815081340bf"
      },
      "source": [
        "#montar o google Drive para suportar os arquivos\n",
        "from google.colab import drive\n",
        "drive.mount('/content/gdrive')"
      ],
      "execution_count": 1,
      "outputs": [
        {
          "output_type": "stream",
          "text": [
            "Mounted at /content/gdrive\n"
          ],
          "name": "stdout"
        }
      ]
    },
    {
      "cell_type": "code",
      "metadata": {
        "id": "7_JOdIdy6FZj"
      },
      "source": [
        "#criar pasta de trabalho\n",
        "!mkdir \"/content/gdrive/My Drive/Movie_DB\""
      ],
      "execution_count": 2,
      "outputs": []
    },
    {
      "cell_type": "code",
      "metadata": {
        "id": "tyYrdM-cxJwv"
      },
      "source": [
        "import os\n",
        "os.environ['KAGGLE_CONFIG_DIR'] = \"/content/gdrive/My Drive/Movie_DB\""
      ],
      "execution_count": 3,
      "outputs": []
    },
    {
      "cell_type": "code",
      "metadata": {
        "colab": {
          "base_uri": "https://localhost:8080/"
        },
        "id": "9bgnDWYAxT-a",
        "outputId": "3754af8c-bedc-4650-adf7-cf71596c40a6"
      },
      "source": [
        "#Acessar a pasta de trabalho\n",
        "%cd /content/gdrive/My Drive/Movie_DB"
      ],
      "execution_count": 4,
      "outputs": [
        {
          "output_type": "stream",
          "text": [
            "/content/gdrive/My Drive/Movie_DB\n"
          ],
          "name": "stdout"
        }
      ]
    },
    {
      "cell_type": "code",
      "metadata": {
        "colab": {
          "resources": {
            "http://localhost:8080/nbextensions/google.colab/files.js": {
              "data": "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",
              "ok": true,
              "headers": [
                [
                  "content-type",
                  "application/javascript"
                ]
              ],
              "status": 200,
              "status_text": ""
            }
          },
          "base_uri": "https://localhost:8080/",
          "height": 72
        },
        "id": "7Ajfo-FH3Hqn",
        "outputId": "927e79e4-522f-4171-86e5-98c3dcb7481d"
      },
      "source": [
        "#Acessar https://www.kaggle.com/ a guia account no profile do seu usuario, crie um se não tiver,  e crie umanova chave de API. Suba o kaggle.json ele será necessário para baixar o dataset\n",
        "from google.colab import files\n",
        "uploaded = files.upload()"
      ],
      "execution_count": 5,
      "outputs": [
        {
          "output_type": "display_data",
          "data": {
            "text/html": [
              "\n",
              "     <input type=\"file\" id=\"files-867bdcf4-eb2e-447f-a612-274aa484a9ba\" name=\"files[]\" multiple disabled\n",
              "        style=\"border:none\" />\n",
              "     <output id=\"result-867bdcf4-eb2e-447f-a612-274aa484a9ba\">\n",
              "      Upload widget is only available when the cell has been executed in the\n",
              "      current browser session. Please rerun this cell to enable.\n",
              "      </output>\n",
              "      <script src=\"/nbextensions/google.colab/files.js\"></script> "
            ],
            "text/plain": [
              "<IPython.core.display.HTML object>"
            ]
          },
          "metadata": {
            "tags": []
          }
        },
        {
          "output_type": "stream",
          "text": [
            "Saving kaggle.json to kaggle.json\n"
          ],
          "name": "stdout"
        }
      ]
    },
    {
      "cell_type": "markdown",
      "metadata": {
        "id": "67nMytr2Y0Vc"
      },
      "source": [
        "# Buscando os dados"
      ]
    },
    {
      "cell_type": "code",
      "metadata": {
        "id": "Ydau2-u5xYvt",
        "colab": {
          "base_uri": "https://localhost:8080/"
        },
        "outputId": "acc6343f-d492-47d3-b80b-c34e58869f13"
      },
      "source": [
        "# Baixar do kaggle o Moviedb dataset\n",
        "!kaggle datasets download -d rounakbanik/the-movies-dataset"
      ],
      "execution_count": 6,
      "outputs": [
        {
          "output_type": "stream",
          "text": [
            "Downloading the-movies-dataset.zip to /content/gdrive/My Drive/Movie_DB\n",
            " 97% 222M/228M [00:03<00:00, 66.8MB/s]\n",
            "100% 228M/228M [00:03<00:00, 70.7MB/s]\n"
          ],
          "name": "stdout"
        }
      ]
    },
    {
      "cell_type": "code",
      "metadata": {
        "colab": {
          "base_uri": "https://localhost:8080/"
        },
        "id": "WggdC_uax7qu",
        "outputId": "3e42fbe3-f81b-482b-fe15-4603d926e77d"
      },
      "source": [
        "%ls"
      ],
      "execution_count": 7,
      "outputs": [
        {
          "output_type": "stream",
          "text": [
            "kaggle.json  the-movies-dataset.zip\n"
          ],
          "name": "stdout"
        }
      ]
    },
    {
      "cell_type": "code",
      "metadata": {
        "id": "2Qzwg7bTyHYP",
        "colab": {
          "base_uri": "https://localhost:8080/"
        },
        "outputId": "9ceacbe8-dfe6-4255-829e-af538e40e95e"
      },
      "source": [
        "#Descompactar o arquivo baixado e em seguida remover o zip\n",
        "!unzip \\*.zip  && rm *.zip"
      ],
      "execution_count": 8,
      "outputs": [
        {
          "output_type": "stream",
          "text": [
            "Archive:  the-movies-dataset.zip\n",
            "  inflating: credits.csv             \n",
            "  inflating: keywords.csv            \n",
            "  inflating: links.csv               \n",
            "  inflating: links_small.csv         \n",
            "  inflating: movies_metadata.csv     \n",
            "  inflating: ratings.csv             \n",
            "  inflating: ratings_small.csv       \n"
          ],
          "name": "stdout"
        }
      ]
    },
    {
      "cell_type": "code",
      "metadata": {
        "id": "_2dXrzQdyYvH"
      },
      "source": [
        "#Remover arquivos desnecessários\n",
        "!rm credits.csv && rm keywords.csv && rm links.csv && rm links_small.csv && rm ratings_small.csv"
      ],
      "execution_count": 9,
      "outputs": []
    },
    {
      "cell_type": "code",
      "metadata": {
        "colab": {
          "base_uri": "https://localhost:8080/"
        },
        "id": "swzA73ybyrIh",
        "outputId": "019b4b39-c7b3-4a2b-dbb4-42b6fab85ec0"
      },
      "source": [
        "%ls"
      ],
      "execution_count": 10,
      "outputs": [
        {
          "output_type": "stream",
          "text": [
            "kaggle.json  movies_metadata.csv  ratings.csv\n"
          ],
          "name": "stdout"
        }
      ]
    },
    {
      "cell_type": "code",
      "metadata": {
        "id": "bh-CjWR9zSOt"
      },
      "source": [
        "import pandas as pd"
      ],
      "execution_count": 11,
      "outputs": []
    },
    {
      "cell_type": "code",
      "metadata": {
        "colab": {
          "base_uri": "https://localhost:8080/"
        },
        "id": "PmvScRWGzVwp",
        "outputId": "d2a2c825-42f2-4336-9163-41d36530f551"
      },
      "source": [
        "#csv para dataframe\n",
        "movies = pd.read_csv('./movies_metadata.csv')\n",
        "users = pd.read_csv('./ratings.csv')"
      ],
      "execution_count": 12,
      "outputs": [
        {
          "output_type": "stream",
          "text": [
            "/usr/local/lib/python3.7/dist-packages/IPython/core/interactiveshell.py:2718: DtypeWarning: Columns (10) have mixed types.Specify dtype option on import or set low_memory=False.\n",
            "  interactivity=interactivity, compiler=compiler, result=result)\n"
          ],
          "name": "stderr"
        }
      ]
    },
    {
      "cell_type": "markdown",
      "metadata": {
        "id": "eFLC4oV3zxN_"
      },
      "source": [
        "# Database Schema"
      ]
    },
    {
      "cell_type": "markdown",
      "metadata": {
        "id": "v3bqsqBTz0Kx"
      },
      "source": [
        "![schema.PNG](data:image/png;base64,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)"
      ]
    },
    {
      "cell_type": "markdown",
      "metadata": {
        "id": "lDweAQUq66P3"
      },
      "source": [
        "## Movies"
      ]
    },
    {
      "cell_type": "code",
      "metadata": {
        "colab": {
          "base_uri": "https://localhost:8080/",
          "height": 666
        },
        "id": "ksM6dbUdzziQ",
        "outputId": "220cd972-bc5d-4d29-c7f2-dc7b153a9607"
      },
      "source": [
        "movies.head()"
      ],
      "execution_count": 13,
      "outputs": [
        {
          "output_type": "execute_result",
          "data": {
            "text/html": [
              "<div>\n",
              "<style scoped>\n",
              "    .dataframe tbody tr th:only-of-type {\n",
              "        vertical-align: middle;\n",
              "    }\n",
              "\n",
              "    .dataframe tbody tr th {\n",
              "        vertical-align: top;\n",
              "    }\n",
              "\n",
              "    .dataframe thead th {\n",
              "        text-align: right;\n",
              "    }\n",
              "</style>\n",
              "<table border=\"1\" class=\"dataframe\">\n",
              "  <thead>\n",
              "    <tr style=\"text-align: right;\">\n",
              "      <th></th>\n",
              "      <th>adult</th>\n",
              "      <th>belongs_to_collection</th>\n",
              "      <th>budget</th>\n",
              "      <th>genres</th>\n",
              "      <th>homepage</th>\n",
              "      <th>id</th>\n",
              "      <th>imdb_id</th>\n",
              "      <th>original_language</th>\n",
              "      <th>original_title</th>\n",
              "      <th>overview</th>\n",
              "      <th>popularity</th>\n",
              "      <th>poster_path</th>\n",
              "      <th>production_companies</th>\n",
              "      <th>production_countries</th>\n",
              "      <th>release_date</th>\n",
              "      <th>revenue</th>\n",
              "      <th>runtime</th>\n",
              "      <th>spoken_languages</th>\n",
              "      <th>status</th>\n",
              "      <th>tagline</th>\n",
              "      <th>title</th>\n",
              "      <th>video</th>\n",
              "      <th>vote_average</th>\n",
              "      <th>vote_count</th>\n",
              "    </tr>\n",
              "  </thead>\n",
              "  <tbody>\n",
              "    <tr>\n",
              "      <th>0</th>\n",
              "      <td>False</td>\n",
              "      <td>{'id': 10194, 'name': 'Toy Story Collection', ...</td>\n",
              "      <td>30000000</td>\n",
              "      <td>[{'id': 16, 'name': 'Animation'}, {'id': 35, '...</td>\n",
              "      <td>http://toystory.disney.com/toy-story</td>\n",
              "      <td>862</td>\n",
              "      <td>tt0114709</td>\n",
              "      <td>en</td>\n",
              "      <td>Toy Story</td>\n",
              "      <td>Led by Woody, Andy's toys live happily in his ...</td>\n",
              "      <td>21.9469</td>\n",
              "      <td>/rhIRbceoE9lR4veEXuwCC2wARtG.jpg</td>\n",
              "      <td>[{'name': 'Pixar Animation Studios', 'id': 3}]</td>\n",
              "      <td>[{'iso_3166_1': 'US', 'name': 'United States o...</td>\n",
              "      <td>1995-10-30</td>\n",
              "      <td>373554033.0</td>\n",
              "      <td>81.0</td>\n",
              "      <td>[{'iso_639_1': 'en', 'name': 'English'}]</td>\n",
              "      <td>Released</td>\n",
              "      <td>NaN</td>\n",
              "      <td>Toy Story</td>\n",
              "      <td>False</td>\n",
              "      <td>7.7</td>\n",
              "      <td>5415.0</td>\n",
              "    </tr>\n",
              "    <tr>\n",
              "      <th>1</th>\n",
              "      <td>False</td>\n",
              "      <td>NaN</td>\n",
              "      <td>65000000</td>\n",
              "      <td>[{'id': 12, 'name': 'Adventure'}, {'id': 14, '...</td>\n",
              "      <td>NaN</td>\n",
              "      <td>8844</td>\n",
              "      <td>tt0113497</td>\n",
              "      <td>en</td>\n",
              "      <td>Jumanji</td>\n",
              "      <td>When siblings Judy and Peter discover an encha...</td>\n",
              "      <td>17.0155</td>\n",
              "      <td>/vzmL6fP7aPKNKPRTFnZmiUfciyV.jpg</td>\n",
              "      <td>[{'name': 'TriStar Pictures', 'id': 559}, {'na...</td>\n",
              "      <td>[{'iso_3166_1': 'US', 'name': 'United States o...</td>\n",
              "      <td>1995-12-15</td>\n",
              "      <td>262797249.0</td>\n",
              "      <td>104.0</td>\n",
              "      <td>[{'iso_639_1': 'en', 'name': 'English'}, {'iso...</td>\n",
              "      <td>Released</td>\n",
              "      <td>Roll the dice and unleash the excitement!</td>\n",
              "      <td>Jumanji</td>\n",
              "      <td>False</td>\n",
              "      <td>6.9</td>\n",
              "      <td>2413.0</td>\n",
              "    </tr>\n",
              "    <tr>\n",
              "      <th>2</th>\n",
              "      <td>False</td>\n",
              "      <td>{'id': 119050, 'name': 'Grumpy Old Men Collect...</td>\n",
              "      <td>0</td>\n",
              "      <td>[{'id': 10749, 'name': 'Romance'}, {'id': 35, ...</td>\n",
              "      <td>NaN</td>\n",
              "      <td>15602</td>\n",
              "      <td>tt0113228</td>\n",
              "      <td>en</td>\n",
              "      <td>Grumpier Old Men</td>\n",
              "      <td>A family wedding reignites the ancient feud be...</td>\n",
              "      <td>11.7129</td>\n",
              "      <td>/6ksm1sjKMFLbO7UY2i6G1ju9SML.jpg</td>\n",
              "      <td>[{'name': 'Warner Bros.', 'id': 6194}, {'name'...</td>\n",
              "      <td>[{'iso_3166_1': 'US', 'name': 'United States o...</td>\n",
              "      <td>1995-12-22</td>\n",
              "      <td>0.0</td>\n",
              "      <td>101.0</td>\n",
              "      <td>[{'iso_639_1': 'en', 'name': 'English'}]</td>\n",
              "      <td>Released</td>\n",
              "      <td>Still Yelling. Still Fighting. Still Ready for...</td>\n",
              "      <td>Grumpier Old Men</td>\n",
              "      <td>False</td>\n",
              "      <td>6.5</td>\n",
              "      <td>92.0</td>\n",
              "    </tr>\n",
              "    <tr>\n",
              "      <th>3</th>\n",
              "      <td>False</td>\n",
              "      <td>NaN</td>\n",
              "      <td>16000000</td>\n",
              "      <td>[{'id': 35, 'name': 'Comedy'}, {'id': 18, 'nam...</td>\n",
              "      <td>NaN</td>\n",
              "      <td>31357</td>\n",
              "      <td>tt0114885</td>\n",
              "      <td>en</td>\n",
              "      <td>Waiting to Exhale</td>\n",
              "      <td>Cheated on, mistreated and stepped on, the wom...</td>\n",
              "      <td>3.85949</td>\n",
              "      <td>/16XOMpEaLWkrcPqSQqhTmeJuqQl.jpg</td>\n",
              "      <td>[{'name': 'Twentieth Century Fox Film Corporat...</td>\n",
              "      <td>[{'iso_3166_1': 'US', 'name': 'United States o...</td>\n",
              "      <td>1995-12-22</td>\n",
              "      <td>81452156.0</td>\n",
              "      <td>127.0</td>\n",
              "      <td>[{'iso_639_1': 'en', 'name': 'English'}]</td>\n",
              "      <td>Released</td>\n",
              "      <td>Friends are the people who let you be yourself...</td>\n",
              "      <td>Waiting to Exhale</td>\n",
              "      <td>False</td>\n",
              "      <td>6.1</td>\n",
              "      <td>34.0</td>\n",
              "    </tr>\n",
              "    <tr>\n",
              "      <th>4</th>\n",
              "      <td>False</td>\n",
              "      <td>{'id': 96871, 'name': 'Father of the Bride Col...</td>\n",
              "      <td>0</td>\n",
              "      <td>[{'id': 35, 'name': 'Comedy'}]</td>\n",
              "      <td>NaN</td>\n",
              "      <td>11862</td>\n",
              "      <td>tt0113041</td>\n",
              "      <td>en</td>\n",
              "      <td>Father of the Bride Part II</td>\n",
              "      <td>Just when George Banks has recovered from his ...</td>\n",
              "      <td>8.38752</td>\n",
              "      <td>/e64sOI48hQXyru7naBFyssKFxVd.jpg</td>\n",
              "      <td>[{'name': 'Sandollar Productions', 'id': 5842}...</td>\n",
              "      <td>[{'iso_3166_1': 'US', 'name': 'United States o...</td>\n",
              "      <td>1995-02-10</td>\n",
              "      <td>76578911.0</td>\n",
              "      <td>106.0</td>\n",
              "      <td>[{'iso_639_1': 'en', 'name': 'English'}]</td>\n",
              "      <td>Released</td>\n",
              "      <td>Just When His World Is Back To Normal... He's ...</td>\n",
              "      <td>Father of the Bride Part II</td>\n",
              "      <td>False</td>\n",
              "      <td>5.7</td>\n",
              "      <td>173.0</td>\n",
              "    </tr>\n",
              "  </tbody>\n",
              "</table>\n",
              "</div>"
            ],
            "text/plain": [
              "   adult  ... vote_count\n",
              "0  False  ...     5415.0\n",
              "1  False  ...     2413.0\n",
              "2  False  ...       92.0\n",
              "3  False  ...       34.0\n",
              "4  False  ...      173.0\n",
              "\n",
              "[5 rows x 24 columns]"
            ]
          },
          "metadata": {
            "tags": []
          },
          "execution_count": 13
        }
      ]
    },
    {
      "cell_type": "code",
      "metadata": {
        "colab": {
          "base_uri": "https://localhost:8080/",
          "height": 204
        },
        "id": "rUoTynce1DPX",
        "outputId": "55542116-f843-4ece-f4ea-34af38a6b3f1"
      },
      "source": [
        "#Selecionar as colunas que o banco de dados possui\n",
        "movies = movies[['id','title','overview','genres']]\n",
        "movies.head()"
      ],
      "execution_count": 14,
      "outputs": [
        {
          "output_type": "execute_result",
          "data": {
            "text/html": [
              "<div>\n",
              "<style scoped>\n",
              "    .dataframe tbody tr th:only-of-type {\n",
              "        vertical-align: middle;\n",
              "    }\n",
              "\n",
              "    .dataframe tbody tr th {\n",
              "        vertical-align: top;\n",
              "    }\n",
              "\n",
              "    .dataframe thead th {\n",
              "        text-align: right;\n",
              "    }\n",
              "</style>\n",
              "<table border=\"1\" class=\"dataframe\">\n",
              "  <thead>\n",
              "    <tr style=\"text-align: right;\">\n",
              "      <th></th>\n",
              "      <th>id</th>\n",
              "      <th>title</th>\n",
              "      <th>overview</th>\n",
              "      <th>genres</th>\n",
              "    </tr>\n",
              "  </thead>\n",
              "  <tbody>\n",
              "    <tr>\n",
              "      <th>0</th>\n",
              "      <td>862</td>\n",
              "      <td>Toy Story</td>\n",
              "      <td>Led by Woody, Andy's toys live happily in his ...</td>\n",
              "      <td>[{'id': 16, 'name': 'Animation'}, {'id': 35, '...</td>\n",
              "    </tr>\n",
              "    <tr>\n",
              "      <th>1</th>\n",
              "      <td>8844</td>\n",
              "      <td>Jumanji</td>\n",
              "      <td>When siblings Judy and Peter discover an encha...</td>\n",
              "      <td>[{'id': 12, 'name': 'Adventure'}, {'id': 14, '...</td>\n",
              "    </tr>\n",
              "    <tr>\n",
              "      <th>2</th>\n",
              "      <td>15602</td>\n",
              "      <td>Grumpier Old Men</td>\n",
              "      <td>A family wedding reignites the ancient feud be...</td>\n",
              "      <td>[{'id': 10749, 'name': 'Romance'}, {'id': 35, ...</td>\n",
              "    </tr>\n",
              "    <tr>\n",
              "      <th>3</th>\n",
              "      <td>31357</td>\n",
              "      <td>Waiting to Exhale</td>\n",
              "      <td>Cheated on, mistreated and stepped on, the wom...</td>\n",
              "      <td>[{'id': 35, 'name': 'Comedy'}, {'id': 18, 'nam...</td>\n",
              "    </tr>\n",
              "    <tr>\n",
              "      <th>4</th>\n",
              "      <td>11862</td>\n",
              "      <td>Father of the Bride Part II</td>\n",
              "      <td>Just when George Banks has recovered from his ...</td>\n",
              "      <td>[{'id': 35, 'name': 'Comedy'}]</td>\n",
              "    </tr>\n",
              "  </tbody>\n",
              "</table>\n",
              "</div>"
            ],
            "text/plain": [
              "      id  ...                                             genres\n",
              "0    862  ...  [{'id': 16, 'name': 'Animation'}, {'id': 35, '...\n",
              "1   8844  ...  [{'id': 12, 'name': 'Adventure'}, {'id': 14, '...\n",
              "2  15602  ...  [{'id': 10749, 'name': 'Romance'}, {'id': 35, ...\n",
              "3  31357  ...  [{'id': 35, 'name': 'Comedy'}, {'id': 18, 'nam...\n",
              "4  11862  ...                     [{'id': 35, 'name': 'Comedy'}]\n",
              "\n",
              "[5 rows x 4 columns]"
            ]
          },
          "metadata": {
            "tags": []
          },
          "execution_count": 14
        }
      ]
    },
    {
      "cell_type": "code",
      "metadata": {
        "colab": {
          "base_uri": "https://localhost:8080/",
          "height": 204
        },
        "id": "JIfprlrP2LNc",
        "outputId": "46d02944-359f-4da2-e11a-be94384e37aa"
      },
      "source": [
        "#Renomear as colunas segundo o banco de dados\n",
        "movies = movies.rename(columns={'title': 'name','overview':'description','genres':'category'})\n",
        "movies.head()"
      ],
      "execution_count": 15,
      "outputs": [
        {
          "output_type": "execute_result",
          "data": {
            "text/html": [
              "<div>\n",
              "<style scoped>\n",
              "    .dataframe tbody tr th:only-of-type {\n",
              "        vertical-align: middle;\n",
              "    }\n",
              "\n",
              "    .dataframe tbody tr th {\n",
              "        vertical-align: top;\n",
              "    }\n",
              "\n",
              "    .dataframe thead th {\n",
              "        text-align: right;\n",
              "    }\n",
              "</style>\n",
              "<table border=\"1\" class=\"dataframe\">\n",
              "  <thead>\n",
              "    <tr style=\"text-align: right;\">\n",
              "      <th></th>\n",
              "      <th>id</th>\n",
              "      <th>name</th>\n",
              "      <th>description</th>\n",
              "      <th>category</th>\n",
              "    </tr>\n",
              "  </thead>\n",
              "  <tbody>\n",
              "    <tr>\n",
              "      <th>0</th>\n",
              "      <td>862</td>\n",
              "      <td>Toy Story</td>\n",
              "      <td>Led by Woody, Andy's toys live happily in his ...</td>\n",
              "      <td>[{'id': 16, 'name': 'Animation'}, {'id': 35, '...</td>\n",
              "    </tr>\n",
              "    <tr>\n",
              "      <th>1</th>\n",
              "      <td>8844</td>\n",
              "      <td>Jumanji</td>\n",
              "      <td>When siblings Judy and Peter discover an encha...</td>\n",
              "      <td>[{'id': 12, 'name': 'Adventure'}, {'id': 14, '...</td>\n",
              "    </tr>\n",
              "    <tr>\n",
              "      <th>2</th>\n",
              "      <td>15602</td>\n",
              "      <td>Grumpier Old Men</td>\n",
              "      <td>A family wedding reignites the ancient feud be...</td>\n",
              "      <td>[{'id': 10749, 'name': 'Romance'}, {'id': 35, ...</td>\n",
              "    </tr>\n",
              "    <tr>\n",
              "      <th>3</th>\n",
              "      <td>31357</td>\n",
              "      <td>Waiting to Exhale</td>\n",
              "      <td>Cheated on, mistreated and stepped on, the wom...</td>\n",
              "      <td>[{'id': 35, 'name': 'Comedy'}, {'id': 18, 'nam...</td>\n",
              "    </tr>\n",
              "    <tr>\n",
              "      <th>4</th>\n",
              "      <td>11862</td>\n",
              "      <td>Father of the Bride Part II</td>\n",
              "      <td>Just when George Banks has recovered from his ...</td>\n",
              "      <td>[{'id': 35, 'name': 'Comedy'}]</td>\n",
              "    </tr>\n",
              "  </tbody>\n",
              "</table>\n",
              "</div>"
            ],
            "text/plain": [
              "      id  ...                                           category\n",
              "0    862  ...  [{'id': 16, 'name': 'Animation'}, {'id': 35, '...\n",
              "1   8844  ...  [{'id': 12, 'name': 'Adventure'}, {'id': 14, '...\n",
              "2  15602  ...  [{'id': 10749, 'name': 'Romance'}, {'id': 35, ...\n",
              "3  31357  ...  [{'id': 35, 'name': 'Comedy'}, {'id': 18, 'nam...\n",
              "4  11862  ...                     [{'id': 35, 'name': 'Comedy'}]\n",
              "\n",
              "[5 rows x 4 columns]"
            ]
          },
          "metadata": {
            "tags": []
          },
          "execution_count": 15
        }
      ]
    },
    {
      "cell_type": "code",
      "metadata": {
        "id": "yulqrACzF4hz"
      },
      "source": [
        "#Remover linhas que contenham nan\n",
        "movies.dropna(inplace = True)"
      ],
      "execution_count": 16,
      "outputs": []
    },
    {
      "cell_type": "code",
      "metadata": {
        "colab": {
          "base_uri": "https://localhost:8080/"
        },
        "id": "zm9YNmhdF9m_",
        "outputId": "446f5a31-03d1-48fc-e8e2-a1b1666f4241"
      },
      "source": [
        "#verificar o tipo de dados de cada coluna\n",
        "movies.info()"
      ],
      "execution_count": 17,
      "outputs": [
        {
          "output_type": "stream",
          "text": [
            "<class 'pandas.core.frame.DataFrame'>\n",
            "Int64Index: 44506 entries, 0 to 45465\n",
            "Data columns (total 4 columns):\n",
            " #   Column       Non-Null Count  Dtype \n",
            "---  ------       --------------  ----- \n",
            " 0   id           44506 non-null  object\n",
            " 1   name         44506 non-null  object\n",
            " 2   description  44506 non-null  object\n",
            " 3   category     44506 non-null  object\n",
            "dtypes: object(4)\n",
            "memory usage: 1.7+ MB\n"
          ],
          "name": "stdout"
        }
      ]
    },
    {
      "cell_type": "code",
      "metadata": {
        "colab": {
          "base_uri": "https://localhost:8080/"
        },
        "id": "J-ERRo8rGHl5",
        "outputId": "7c752324-4f53-498c-97f4-595bf8455937"
      },
      "source": [
        "#alterar id para inteiro\n",
        "movies['id'] = pd.to_numeric(movies['id'])\n",
        "movies.info()"
      ],
      "execution_count": 18,
      "outputs": [
        {
          "output_type": "stream",
          "text": [
            "<class 'pandas.core.frame.DataFrame'>\n",
            "Int64Index: 44506 entries, 0 to 45465\n",
            "Data columns (total 4 columns):\n",
            " #   Column       Non-Null Count  Dtype \n",
            "---  ------       --------------  ----- \n",
            " 0   id           44506 non-null  int64 \n",
            " 1   name         44506 non-null  object\n",
            " 2   description  44506 non-null  object\n",
            " 3   category     44506 non-null  object\n",
            "dtypes: int64(1), object(3)\n",
            "memory usage: 1.7+ MB\n"
          ],
          "name": "stdout"
        }
      ]
    },
    {
      "cell_type": "code",
      "metadata": {
        "id": "l7LuvmoiCL7n"
      },
      "source": [
        "#como string posso dar um replace e tirar as partes do dicionario e montar uma lista, sim foi o modo força bruta\n",
        "movies['category'] = movies['category'].str.replace(\"'id'\", '')\n",
        "movies['category'] = movies['category'].str.replace(\"'name'\", '')\n",
        "movies['category'] = movies['category'].str.replace(\"\\d\", '')\n",
        "movies['category'] = movies['category'].str.replace(\":\", '')\n",
        "movies['category'] = movies['category'].str.replace(pat = '{', repl = '')\n",
        "movies['category'] = movies['category'].str.replace(pat = '}', repl = '')\n",
        "movies['category'] = movies['category'].str.replace(pat = ' ', repl = '')\n",
        "movies['category'] = movies['category'].str.replace(pat = \",'\", repl = \"'\")\n",
        "#avalia o formato como lista e aplica esse tipo\n",
        "movies['category'] = movies['category'].apply(eval)"
      ],
      "execution_count": 19,
      "outputs": []
    },
    {
      "cell_type": "code",
      "metadata": {
        "colab": {
          "base_uri": "https://localhost:8080/"
        },
        "id": "eFVsH7GfIYtO",
        "outputId": "10742e96-2e8f-4f53-8380-78942b3d116f"
      },
      "source": [
        "movies['category'].head()"
      ],
      "execution_count": 20,
      "outputs": [
        {
          "output_type": "execute_result",
          "data": {
            "text/plain": [
              "0     [Animation, Comedy, Family]\n",
              "1    [Adventure, Fantasy, Family]\n",
              "2               [Romance, Comedy]\n",
              "3        [Comedy, Drama, Romance]\n",
              "4                        [Comedy]\n",
              "Name: category, dtype: object"
            ]
          },
          "metadata": {
            "tags": []
          },
          "execution_count": 20
        }
      ]
    },
    {
      "cell_type": "code",
      "metadata": {
        "colab": {
          "base_uri": "https://localhost:8080/",
          "height": 204
        },
        "id": "5uqOvQr7-VRI",
        "outputId": "a796d51a-f5de-4e7f-f8fe-b4802c8cfffd"
      },
      "source": [
        "movies.head()"
      ],
      "execution_count": 21,
      "outputs": [
        {
          "output_type": "execute_result",
          "data": {
            "text/html": [
              "<div>\n",
              "<style scoped>\n",
              "    .dataframe tbody tr th:only-of-type {\n",
              "        vertical-align: middle;\n",
              "    }\n",
              "\n",
              "    .dataframe tbody tr th {\n",
              "        vertical-align: top;\n",
              "    }\n",
              "\n",
              "    .dataframe thead th {\n",
              "        text-align: right;\n",
              "    }\n",
              "</style>\n",
              "<table border=\"1\" class=\"dataframe\">\n",
              "  <thead>\n",
              "    <tr style=\"text-align: right;\">\n",
              "      <th></th>\n",
              "      <th>id</th>\n",
              "      <th>name</th>\n",
              "      <th>description</th>\n",
              "      <th>category</th>\n",
              "    </tr>\n",
              "  </thead>\n",
              "  <tbody>\n",
              "    <tr>\n",
              "      <th>0</th>\n",
              "      <td>862</td>\n",
              "      <td>Toy Story</td>\n",
              "      <td>Led by Woody, Andy's toys live happily in his ...</td>\n",
              "      <td>[Animation, Comedy, Family]</td>\n",
              "    </tr>\n",
              "    <tr>\n",
              "      <th>1</th>\n",
              "      <td>8844</td>\n",
              "      <td>Jumanji</td>\n",
              "      <td>When siblings Judy and Peter discover an encha...</td>\n",
              "      <td>[Adventure, Fantasy, Family]</td>\n",
              "    </tr>\n",
              "    <tr>\n",
              "      <th>2</th>\n",
              "      <td>15602</td>\n",
              "      <td>Grumpier Old Men</td>\n",
              "      <td>A family wedding reignites the ancient feud be...</td>\n",
              "      <td>[Romance, Comedy]</td>\n",
              "    </tr>\n",
              "    <tr>\n",
              "      <th>3</th>\n",
              "      <td>31357</td>\n",
              "      <td>Waiting to Exhale</td>\n",
              "      <td>Cheated on, mistreated and stepped on, the wom...</td>\n",
              "      <td>[Comedy, Drama, Romance]</td>\n",
              "    </tr>\n",
              "    <tr>\n",
              "      <th>4</th>\n",
              "      <td>11862</td>\n",
              "      <td>Father of the Bride Part II</td>\n",
              "      <td>Just when George Banks has recovered from his ...</td>\n",
              "      <td>[Comedy]</td>\n",
              "    </tr>\n",
              "  </tbody>\n",
              "</table>\n",
              "</div>"
            ],
            "text/plain": [
              "      id  ...                      category\n",
              "0    862  ...   [Animation, Comedy, Family]\n",
              "1   8844  ...  [Adventure, Fantasy, Family]\n",
              "2  15602  ...             [Romance, Comedy]\n",
              "3  31357  ...      [Comedy, Drama, Romance]\n",
              "4  11862  ...                      [Comedy]\n",
              "\n",
              "[5 rows x 4 columns]"
            ]
          },
          "metadata": {
            "tags": []
          },
          "execution_count": 21
        }
      ]
    },
    {
      "cell_type": "markdown",
      "metadata": {
        "id": "4geSbM0z7Gf8"
      },
      "source": [
        "## Users"
      ]
    },
    {
      "cell_type": "code",
      "metadata": {
        "colab": {
          "base_uri": "https://localhost:8080/",
          "height": 204
        },
        "id": "zVVwE5rT0crT",
        "outputId": "4aefb320-708e-4c52-d52e-b052c49deee1"
      },
      "source": [
        "users.head()"
      ],
      "execution_count": 22,
      "outputs": [
        {
          "output_type": "execute_result",
          "data": {
            "text/html": [
              "<div>\n",
              "<style scoped>\n",
              "    .dataframe tbody tr th:only-of-type {\n",
              "        vertical-align: middle;\n",
              "    }\n",
              "\n",
              "    .dataframe tbody tr th {\n",
              "        vertical-align: top;\n",
              "    }\n",
              "\n",
              "    .dataframe thead th {\n",
              "        text-align: right;\n",
              "    }\n",
              "</style>\n",
              "<table border=\"1\" class=\"dataframe\">\n",
              "  <thead>\n",
              "    <tr style=\"text-align: right;\">\n",
              "      <th></th>\n",
              "      <th>userId</th>\n",
              "      <th>movieId</th>\n",
              "      <th>rating</th>\n",
              "      <th>timestamp</th>\n",
              "    </tr>\n",
              "  </thead>\n",
              "  <tbody>\n",
              "    <tr>\n",
              "      <th>0</th>\n",
              "      <td>1</td>\n",
              "      <td>110</td>\n",
              "      <td>1.0</td>\n",
              "      <td>1425941529</td>\n",
              "    </tr>\n",
              "    <tr>\n",
              "      <th>1</th>\n",
              "      <td>1</td>\n",
              "      <td>147</td>\n",
              "      <td>4.5</td>\n",
              "      <td>1425942435</td>\n",
              "    </tr>\n",
              "    <tr>\n",
              "      <th>2</th>\n",
              "      <td>1</td>\n",
              "      <td>858</td>\n",
              "      <td>5.0</td>\n",
              "      <td>1425941523</td>\n",
              "    </tr>\n",
              "    <tr>\n",
              "      <th>3</th>\n",
              "      <td>1</td>\n",
              "      <td>1221</td>\n",
              "      <td>5.0</td>\n",
              "      <td>1425941546</td>\n",
              "    </tr>\n",
              "    <tr>\n",
              "      <th>4</th>\n",
              "      <td>1</td>\n",
              "      <td>1246</td>\n",
              "      <td>5.0</td>\n",
              "      <td>1425941556</td>\n",
              "    </tr>\n",
              "  </tbody>\n",
              "</table>\n",
              "</div>"
            ],
            "text/plain": [
              "   userId  movieId  rating   timestamp\n",
              "0       1      110     1.0  1425941529\n",
              "1       1      147     4.5  1425942435\n",
              "2       1      858     5.0  1425941523\n",
              "3       1     1221     5.0  1425941546\n",
              "4       1     1246     5.0  1425941556"
            ]
          },
          "metadata": {
            "tags": []
          },
          "execution_count": 22
        }
      ]
    },
    {
      "cell_type": "code",
      "metadata": {
        "colab": {
          "base_uri": "https://localhost:8080/",
          "height": 204
        },
        "id": "C_F0ayY6-iPz",
        "outputId": "b8be3b52-50e7-4159-e311-8aa4b56c74f5"
      },
      "source": [
        "users = users[['userId','movieId','rating']]\n",
        "users.head()"
      ],
      "execution_count": 23,
      "outputs": [
        {
          "output_type": "execute_result",
          "data": {
            "text/html": [
              "<div>\n",
              "<style scoped>\n",
              "    .dataframe tbody tr th:only-of-type {\n",
              "        vertical-align: middle;\n",
              "    }\n",
              "\n",
              "    .dataframe tbody tr th {\n",
              "        vertical-align: top;\n",
              "    }\n",
              "\n",
              "    .dataframe thead th {\n",
              "        text-align: right;\n",
              "    }\n",
              "</style>\n",
              "<table border=\"1\" class=\"dataframe\">\n",
              "  <thead>\n",
              "    <tr style=\"text-align: right;\">\n",
              "      <th></th>\n",
              "      <th>userId</th>\n",
              "      <th>movieId</th>\n",
              "      <th>rating</th>\n",
              "    </tr>\n",
              "  </thead>\n",
              "  <tbody>\n",
              "    <tr>\n",
              "      <th>0</th>\n",
              "      <td>1</td>\n",
              "      <td>110</td>\n",
              "      <td>1.0</td>\n",
              "    </tr>\n",
              "    <tr>\n",
              "      <th>1</th>\n",
              "      <td>1</td>\n",
              "      <td>147</td>\n",
              "      <td>4.5</td>\n",
              "    </tr>\n",
              "    <tr>\n",
              "      <th>2</th>\n",
              "      <td>1</td>\n",
              "      <td>858</td>\n",
              "      <td>5.0</td>\n",
              "    </tr>\n",
              "    <tr>\n",
              "      <th>3</th>\n",
              "      <td>1</td>\n",
              "      <td>1221</td>\n",
              "      <td>5.0</td>\n",
              "    </tr>\n",
              "    <tr>\n",
              "      <th>4</th>\n",
              "      <td>1</td>\n",
              "      <td>1246</td>\n",
              "      <td>5.0</td>\n",
              "    </tr>\n",
              "  </tbody>\n",
              "</table>\n",
              "</div>"
            ],
            "text/plain": [
              "   userId  movieId  rating\n",
              "0       1      110     1.0\n",
              "1       1      147     4.5\n",
              "2       1      858     5.0\n",
              "3       1     1221     5.0\n",
              "4       1     1246     5.0"
            ]
          },
          "metadata": {
            "tags": []
          },
          "execution_count": 23
        }
      ]
    },
    {
      "cell_type": "code",
      "metadata": {
        "colab": {
          "base_uri": "https://localhost:8080/",
          "height": 204
        },
        "id": "hsB1DJ2x_N58",
        "outputId": "ce81b04a-1679-40f1-863f-8597be172dee"
      },
      "source": [
        "users = users.rename(columns={'userId':'id','movieId':'movie_id'})\n",
        "users.head()"
      ],
      "execution_count": 24,
      "outputs": [
        {
          "output_type": "execute_result",
          "data": {
            "text/html": [
              "<div>\n",
              "<style scoped>\n",
              "    .dataframe tbody tr th:only-of-type {\n",
              "        vertical-align: middle;\n",
              "    }\n",
              "\n",
              "    .dataframe tbody tr th {\n",
              "        vertical-align: top;\n",
              "    }\n",
              "\n",
              "    .dataframe thead th {\n",
              "        text-align: right;\n",
              "    }\n",
              "</style>\n",
              "<table border=\"1\" class=\"dataframe\">\n",
              "  <thead>\n",
              "    <tr style=\"text-align: right;\">\n",
              "      <th></th>\n",
              "      <th>id</th>\n",
              "      <th>movie_id</th>\n",
              "      <th>rating</th>\n",
              "    </tr>\n",
              "  </thead>\n",
              "  <tbody>\n",
              "    <tr>\n",
              "      <th>0</th>\n",
              "      <td>1</td>\n",
              "      <td>110</td>\n",
              "      <td>1.0</td>\n",
              "    </tr>\n",
              "    <tr>\n",
              "      <th>1</th>\n",
              "      <td>1</td>\n",
              "      <td>147</td>\n",
              "      <td>4.5</td>\n",
              "    </tr>\n",
              "    <tr>\n",
              "      <th>2</th>\n",
              "      <td>1</td>\n",
              "      <td>858</td>\n",
              "      <td>5.0</td>\n",
              "    </tr>\n",
              "    <tr>\n",
              "      <th>3</th>\n",
              "      <td>1</td>\n",
              "      <td>1221</td>\n",
              "      <td>5.0</td>\n",
              "    </tr>\n",
              "    <tr>\n",
              "      <th>4</th>\n",
              "      <td>1</td>\n",
              "      <td>1246</td>\n",
              "      <td>5.0</td>\n",
              "    </tr>\n",
              "  </tbody>\n",
              "</table>\n",
              "</div>"
            ],
            "text/plain": [
              "   id  movie_id  rating\n",
              "0   1       110     1.0\n",
              "1   1       147     4.5\n",
              "2   1       858     5.0\n",
              "3   1      1221     5.0\n",
              "4   1      1246     5.0"
            ]
          },
          "metadata": {
            "tags": []
          },
          "execution_count": 24
        }
      ]
    },
    {
      "cell_type": "code",
      "metadata": {
        "colab": {
          "base_uri": "https://localhost:8080/"
        },
        "id": "LEHFsoeA7MZR",
        "outputId": "d8f6ee75-2e35-481e-995a-f2eccdcdb6b1"
      },
      "source": [
        "users.info()"
      ],
      "execution_count": 25,
      "outputs": [
        {
          "output_type": "stream",
          "text": [
            "<class 'pandas.core.frame.DataFrame'>\n",
            "RangeIndex: 26024289 entries, 0 to 26024288\n",
            "Data columns (total 3 columns):\n",
            " #   Column    Dtype  \n",
            "---  ------    -----  \n",
            " 0   id        int64  \n",
            " 1   movie_id  int64  \n",
            " 2   rating    float64\n",
            "dtypes: float64(1), int64(2)\n",
            "memory usage: 595.6 MB\n"
          ],
          "name": "stdout"
        }
      ]
    },
    {
      "cell_type": "markdown",
      "metadata": {
        "id": "qgAcHPIK7czB"
      },
      "source": [
        "# Criando o Database"
      ]
    },
    {
      "cell_type": "code",
      "metadata": {
        "id": "653_A2mi7m7V"
      },
      "source": [
        "#cria o db\n",
        "import sqlite3\n",
        "con = sqlite3.connect('MoviesDB.db')\n",
        "cur = con.cursor()"
      ],
      "execution_count": 26,
      "outputs": []
    },
    {
      "cell_type": "code",
      "metadata": {
        "colab": {
          "base_uri": "https://localhost:8080/",
          "height": 35
        },
        "id": "sMp_MFhDE_tR",
        "outputId": "62fdadca-c821-473b-ea58-ba56aba5c2b8"
      },
      "source": [
        "#comando com a sql para criar a tabela MOVIES\n",
        "create_movie = \"\"\"CREATE TABLE IF NOT EXISTS \"\"\"+\"\"\"MOVIES\"\"\"+\"\"\"(id INTEGER PRIMARY KEY,name TEXT NOT NULL, description TEXT, category TEXT)\"\"\"\n",
        "create_movie"
      ],
      "execution_count": 27,
      "outputs": [
        {
          "output_type": "execute_result",
          "data": {
            "application/vnd.google.colaboratory.intrinsic+json": {
              "type": "string"
            },
            "text/plain": [
              "'CREATE TABLE IF NOT EXISTS MOVIES(id INTEGER PRIMARY KEY,name TEXT NOT NULL, description TEXT, category TEXT)'"
            ]
          },
          "metadata": {
            "tags": []
          },
          "execution_count": 27
        }
      ]
    },
    {
      "cell_type": "code",
      "metadata": {
        "colab": {
          "base_uri": "https://localhost:8080/"
        },
        "id": "qeUX0AL-9hKs",
        "outputId": "b076138e-56e8-459f-b8c2-bef33fcb2585"
      },
      "source": [
        "#executa o comando de criação\n",
        "cur.execute(create_movie)"
      ],
      "execution_count": 28,
      "outputs": [
        {
          "output_type": "execute_result",
          "data": {
            "text/plain": [
              "<sqlite3.Cursor at 0x7f36431d2ea0>"
            ]
          },
          "metadata": {
            "tags": []
          },
          "execution_count": 28
        }
      ]
    },
    {
      "cell_type": "code",
      "metadata": {
        "colab": {
          "base_uri": "https://localhost:8080/",
          "height": 52
        },
        "id": "a5RPTH0GXBF9",
        "outputId": "64b5a4a8-2ff1-4159-a8bd-9c8d4dae41a9"
      },
      "source": [
        "create_users = \"\"\"CREATE TABLE IF NOT EXISTS \"\"\"+\"\"\"USERS\"\"\"+\"\"\"(id INTEGER,movie_id INTEGER NOT NULL,rating REAL,PRIMARY KEY(id,movie_id),FOREIGN KEY (movie_id) REFERENCES MOVIES (id) ON DELETE CASCADE ON UPDATE NO ACTION)\"\"\"\n",
        "create_users"
      ],
      "execution_count": 29,
      "outputs": [
        {
          "output_type": "execute_result",
          "data": {
            "application/vnd.google.colaboratory.intrinsic+json": {
              "type": "string"
            },
            "text/plain": [
              "'CREATE TABLE IF NOT EXISTS USERS(id INTEGER,movie_id INTEGER NOT NULL,rating REAL,PRIMARY KEY(id,movie_id),FOREIGN KEY (movie_id) REFERENCES MOVIES (id) ON DELETE CASCADE ON UPDATE NO ACTION)'"
            ]
          },
          "metadata": {
            "tags": []
          },
          "execution_count": 29
        }
      ]
    },
    {
      "cell_type": "code",
      "metadata": {
        "id": "EYqD0Ey29oH7"
      },
      "source": [
        "cur.execute(create_users)\n",
        "con.commit()"
      ],
      "execution_count": 30,
      "outputs": []
    },
    {
      "cell_type": "code",
      "metadata": {
        "colab": {
          "base_uri": "https://localhost:8080/",
          "height": 35
        },
        "id": "yKemgNdbAyoC",
        "outputId": "84c6157f-55fd-4afb-b88d-c4b43c9d05c8"
      },
      "source": [
        "#Cria a primeira parte do comando de inserção na tabela\n",
        "insert_movies = \"\"\"INSERT INTO\"\"\"+\"\"\" MOVIES\"\"\"+\"\"\"(\"\"\"+','.join(movies.columns)+\"\"\") VALUES (\"\"\"+','.join(map(str,'?'*len(movies.columns)))+\"\"\")\"\"\"\n",
        "insert_movies"
      ],
      "execution_count": 31,
      "outputs": [
        {
          "output_type": "execute_result",
          "data": {
            "application/vnd.google.colaboratory.intrinsic+json": {
              "type": "string"
            },
            "text/plain": [
              "'INSERT INTO MOVIES(id,name,description,category) VALUES (?,?,?,?)'"
            ]
          },
          "metadata": {
            "tags": []
          },
          "execution_count": 31
        }
      ]
    },
    {
      "cell_type": "code",
      "metadata": {
        "colab": {
          "base_uri": "https://localhost:8080/",
          "height": 35
        },
        "id": "TRBSFiRBA6MA",
        "outputId": "076f269d-062e-40fb-c756-1b71bbdf658b"
      },
      "source": [
        "insert_users = \"\"\"INSERT INTO\"\"\"+\"\"\" USERS\"\"\"+\"\"\"(\"\"\"+','.join(users.columns)+\"\"\") VALUES (\"\"\"+','.join(map(str,'?'*len(users.columns)))+\"\"\")\"\"\"\n",
        "insert_users"
      ],
      "execution_count": 32,
      "outputs": [
        {
          "output_type": "execute_result",
          "data": {
            "application/vnd.google.colaboratory.intrinsic+json": {
              "type": "string"
            },
            "text/plain": [
              "'INSERT INTO USERS(id,movie_id,rating) VALUES (?,?,?)'"
            ]
          },
          "metadata": {
            "tags": []
          },
          "execution_count": 32
        }
      ]
    },
    {
      "cell_type": "code",
      "metadata": {
        "colab": {
          "base_uri": "https://localhost:8080/",
          "height": 204
        },
        "id": "b3kvYwihxrKO",
        "outputId": "538e1922-41a1-4009-8c81-011f78013091"
      },
      "source": [
        "#ordernar o dataframe por id para melhorar a performance\n",
        "movies.sort_values(by=['id'], inplace=True)\n",
        "movies.head()"
      ],
      "execution_count": 33,
      "outputs": [
        {
          "output_type": "execute_result",
          "data": {
            "text/html": [
              "<div>\n",
              "<style scoped>\n",
              "    .dataframe tbody tr th:only-of-type {\n",
              "        vertical-align: middle;\n",
              "    }\n",
              "\n",
              "    .dataframe tbody tr th {\n",
              "        vertical-align: top;\n",
              "    }\n",
              "\n",
              "    .dataframe thead th {\n",
              "        text-align: right;\n",
              "    }\n",
              "</style>\n",
              "<table border=\"1\" class=\"dataframe\">\n",
              "  <thead>\n",
              "    <tr style=\"text-align: right;\">\n",
              "      <th></th>\n",
              "      <th>id</th>\n",
              "      <th>name</th>\n",
              "      <th>description</th>\n",
              "      <th>category</th>\n",
              "    </tr>\n",
              "  </thead>\n",
              "  <tbody>\n",
              "    <tr>\n",
              "      <th>4342</th>\n",
              "      <td>2</td>\n",
              "      <td>Ariel</td>\n",
              "      <td>Taisto Kasurinen is a Finnish coal miner whose...</td>\n",
              "      <td>[Drama, Crime]</td>\n",
              "    </tr>\n",
              "    <tr>\n",
              "      <th>12947</th>\n",
              "      <td>3</td>\n",
              "      <td>Shadows in Paradise</td>\n",
              "      <td>An episode in the life of Nikander, a garbage ...</td>\n",
              "      <td>[Drama, Comedy]</td>\n",
              "    </tr>\n",
              "    <tr>\n",
              "      <th>17</th>\n",
              "      <td>5</td>\n",
              "      <td>Four Rooms</td>\n",
              "      <td>It's Ted the Bellhop's first night on the job....</td>\n",
              "      <td>[Crime, Comedy]</td>\n",
              "    </tr>\n",
              "    <tr>\n",
              "      <th>474</th>\n",
              "      <td>6</td>\n",
              "      <td>Judgment Night</td>\n",
              "      <td>While racing to a boxing match, Frank, Mike, J...</td>\n",
              "      <td>[Action, Thriller, Crime]</td>\n",
              "    </tr>\n",
              "    <tr>\n",
              "      <th>256</th>\n",
              "      <td>11</td>\n",
              "      <td>Star Wars</td>\n",
              "      <td>Princess Leia is captured and held hostage by ...</td>\n",
              "      <td>[Adventure, Action, ScienceFiction]</td>\n",
              "    </tr>\n",
              "  </tbody>\n",
              "</table>\n",
              "</div>"
            ],
            "text/plain": [
              "       id  ...                             category\n",
              "4342    2  ...                       [Drama, Crime]\n",
              "12947   3  ...                      [Drama, Comedy]\n",
              "17      5  ...                      [Crime, Comedy]\n",
              "474     6  ...            [Action, Thriller, Crime]\n",
              "256    11  ...  [Adventure, Action, ScienceFiction]\n",
              "\n",
              "[5 rows x 4 columns]"
            ]
          },
          "metadata": {
            "tags": []
          },
          "execution_count": 33
        }
      ]
    },
    {
      "cell_type": "code",
      "metadata": {
        "id": "BpN5-gNB7EVi"
      },
      "source": [
        "#dropar registros duplicados pelo id, já que o id é pk\n",
        "movies.drop_duplicates(subset='id', keep=False,inplace=True)"
      ],
      "execution_count": 34,
      "outputs": []
    },
    {
      "cell_type": "code",
      "metadata": {
        "id": "bvHayBrIClc8"
      },
      "source": [
        "#dataframe transformado em tipo string para completar o comando de insert\n",
        "movies = movies.astype(str)"
      ],
      "execution_count": 35,
      "outputs": []
    },
    {
      "cell_type": "code",
      "metadata": {
        "id": "PjUOi0SBCW4R"
      },
      "source": [
        "#percorre todas as linhas do dataframe, executando as duas partes do comando de insert\n",
        "for i in range(len(movies)):\n",
        "  insert = tuple(movies.iloc[i])\n",
        "  cur.execute(insert_movies,insert)\n",
        "con.commit()"
      ],
      "execution_count": 36,
      "outputs": []
    },
    {
      "cell_type": "code",
      "metadata": {
        "colab": {
          "base_uri": "https://localhost:8080/",
          "height": 204
        },
        "id": "KYcghLTsBIOg",
        "outputId": "eda3778d-3674-43f3-d908-eb626eaf498a"
      },
      "source": [
        "users.sort_values(by=['id'], inplace=True)\n",
        "users.head()"
      ],
      "execution_count": 37,
      "outputs": [
        {
          "output_type": "execute_result",
          "data": {
            "text/html": [
              "<div>\n",
              "<style scoped>\n",
              "    .dataframe tbody tr th:only-of-type {\n",
              "        vertical-align: middle;\n",
              "    }\n",
              "\n",
              "    .dataframe tbody tr th {\n",
              "        vertical-align: top;\n",
              "    }\n",
              "\n",
              "    .dataframe thead th {\n",
              "        text-align: right;\n",
              "    }\n",
              "</style>\n",
              "<table border=\"1\" class=\"dataframe\">\n",
              "  <thead>\n",
              "    <tr style=\"text-align: right;\">\n",
              "      <th></th>\n",
              "      <th>id</th>\n",
              "      <th>movie_id</th>\n",
              "      <th>rating</th>\n",
              "    </tr>\n",
              "  </thead>\n",
              "  <tbody>\n",
              "    <tr>\n",
              "      <th>0</th>\n",
              "      <td>1</td>\n",
              "      <td>110</td>\n",
              "      <td>1.0</td>\n",
              "    </tr>\n",
              "    <tr>\n",
              "      <th>26</th>\n",
              "      <td>1</td>\n",
              "      <td>112552</td>\n",
              "      <td>5.0</td>\n",
              "    </tr>\n",
              "    <tr>\n",
              "      <th>25</th>\n",
              "      <td>1</td>\n",
              "      <td>99114</td>\n",
              "      <td>4.0</td>\n",
              "    </tr>\n",
              "    <tr>\n",
              "      <th>24</th>\n",
              "      <td>1</td>\n",
              "      <td>98809</td>\n",
              "      <td>0.5</td>\n",
              "    </tr>\n",
              "    <tr>\n",
              "      <th>23</th>\n",
              "      <td>1</td>\n",
              "      <td>96821</td>\n",
              "      <td>5.0</td>\n",
              "    </tr>\n",
              "  </tbody>\n",
              "</table>\n",
              "</div>"
            ],
            "text/plain": [
              "    id  movie_id  rating\n",
              "0    1       110     1.0\n",
              "26   1    112552     5.0\n",
              "25   1     99114     4.0\n",
              "24   1     98809     0.5\n",
              "23   1     96821     5.0"
            ]
          },
          "metadata": {
            "tags": []
          },
          "execution_count": 37
        }
      ]
    },
    {
      "cell_type": "code",
      "metadata": {
        "id": "z8OOgp8aBNxc"
      },
      "source": [
        "users.drop_duplicates(subset=['id','movie_id'], keep=False,inplace=True)"
      ],
      "execution_count": 38,
      "outputs": []
    },
    {
      "cell_type": "code",
      "metadata": {
        "colab": {
          "base_uri": "https://localhost:8080/",
          "height": 204
        },
        "id": "TM0by84LCSs2",
        "outputId": "13b9b0b2-9f68-4769-87a1-31a8a8e874c7"
      },
      "source": [
        "users.head()"
      ],
      "execution_count": 39,
      "outputs": [
        {
          "output_type": "execute_result",
          "data": {
            "text/html": [
              "<div>\n",
              "<style scoped>\n",
              "    .dataframe tbody tr th:only-of-type {\n",
              "        vertical-align: middle;\n",
              "    }\n",
              "\n",
              "    .dataframe tbody tr th {\n",
              "        vertical-align: top;\n",
              "    }\n",
              "\n",
              "    .dataframe thead th {\n",
              "        text-align: right;\n",
              "    }\n",
              "</style>\n",
              "<table border=\"1\" class=\"dataframe\">\n",
              "  <thead>\n",
              "    <tr style=\"text-align: right;\">\n",
              "      <th></th>\n",
              "      <th>id</th>\n",
              "      <th>movie_id</th>\n",
              "      <th>rating</th>\n",
              "    </tr>\n",
              "  </thead>\n",
              "  <tbody>\n",
              "    <tr>\n",
              "      <th>0</th>\n",
              "      <td>1</td>\n",
              "      <td>110</td>\n",
              "      <td>1.0</td>\n",
              "    </tr>\n",
              "    <tr>\n",
              "      <th>26</th>\n",
              "      <td>1</td>\n",
              "      <td>112552</td>\n",
              "      <td>5.0</td>\n",
              "    </tr>\n",
              "    <tr>\n",
              "      <th>25</th>\n",
              "      <td>1</td>\n",
              "      <td>99114</td>\n",
              "      <td>4.0</td>\n",
              "    </tr>\n",
              "    <tr>\n",
              "      <th>24</th>\n",
              "      <td>1</td>\n",
              "      <td>98809</td>\n",
              "      <td>0.5</td>\n",
              "    </tr>\n",
              "    <tr>\n",
              "      <th>23</th>\n",
              "      <td>1</td>\n",
              "      <td>96821</td>\n",
              "      <td>5.0</td>\n",
              "    </tr>\n",
              "  </tbody>\n",
              "</table>\n",
              "</div>"
            ],
            "text/plain": [
              "    id  movie_id  rating\n",
              "0    1       110     1.0\n",
              "26   1    112552     5.0\n",
              "25   1     99114     4.0\n",
              "24   1     98809     0.5\n",
              "23   1     96821     5.0"
            ]
          },
          "metadata": {
            "tags": []
          },
          "execution_count": 39
        }
      ]
    },
    {
      "cell_type": "code",
      "metadata": {
        "id": "Xt-pQ5hgDLQI"
      },
      "source": [
        "for i in range(len(users)):\n",
        "  insert = tuple(users.iloc[i])\n",
        "  cur.execute(insert_users,insert)\n",
        "con.commit()"
      ],
      "execution_count": 40,
      "outputs": []
    },
    {
      "cell_type": "code",
      "metadata": {
        "id": "u6SH9_bpDmmv"
      },
      "source": [
        "#fechar a conexão com o banco\n",
        "con.close()"
      ],
      "execution_count": 41,
      "outputs": []
    },
    {
      "cell_type": "code",
      "metadata": {
        "id": "WlFy1KQmDQ2u"
      },
      "source": [
        "#deletar dataframes e remover arquivos desnecessários\n",
        "del movies\n",
        "del users\n",
        "!rm ./ratings.csv  && rm ./movies_metadata.csv"
      ],
      "execution_count": 42,
      "outputs": []
    },
    {
      "cell_type": "markdown",
      "metadata": {
        "id": "WDT4lr6AT7an"
      },
      "source": [
        "# Pandas Querying Data"
      ]
    },
    {
      "cell_type": "code",
      "metadata": {
        "id": "y_QIQSMbUVHA"
      },
      "source": [
        "import sqlite3\n",
        "con = sqlite3.connect('MoviesDB.db')\n",
        "cur = con.cursor()"
      ],
      "execution_count": 43,
      "outputs": []
    },
    {
      "cell_type": "code",
      "metadata": {
        "id": "0uUNHopoUfK9"
      },
      "source": [
        "select_movie = \"\"\"SELECT * FROM MOVIES\"\"\""
      ],
      "execution_count": 44,
      "outputs": []
    },
    {
      "cell_type": "code",
      "metadata": {
        "id": "goDnapwOUYnc"
      },
      "source": [
        "import pandas as pd\n",
        "movies_tb = pd.read_sql_query('SELECT * FROM MOVIES',con)"
      ],
      "execution_count": 45,
      "outputs": []
    },
    {
      "cell_type": "code",
      "metadata": {
        "colab": {
          "base_uri": "https://localhost:8080/",
          "height": 419
        },
        "id": "rEePrfI5Uxhp",
        "outputId": "24559f1d-7230-4e94-8a28-4c19b1ff67d0"
      },
      "source": [
        "movies_tb"
      ],
      "execution_count": 46,
      "outputs": [
        {
          "output_type": "execute_result",
          "data": {
            "text/html": [
              "<div>\n",
              "<style scoped>\n",
              "    .dataframe tbody tr th:only-of-type {\n",
              "        vertical-align: middle;\n",
              "    }\n",
              "\n",
              "    .dataframe tbody tr th {\n",
              "        vertical-align: top;\n",
              "    }\n",
              "\n",
              "    .dataframe thead th {\n",
              "        text-align: right;\n",
              "    }\n",
              "</style>\n",
              "<table border=\"1\" class=\"dataframe\">\n",
              "  <thead>\n",
              "    <tr style=\"text-align: right;\">\n",
              "      <th></th>\n",
              "      <th>id</th>\n",
              "      <th>name</th>\n",
              "      <th>description</th>\n",
              "      <th>category</th>\n",
              "    </tr>\n",
              "  </thead>\n",
              "  <tbody>\n",
              "    <tr>\n",
              "      <th>0</th>\n",
              "      <td>2</td>\n",
              "      <td>Ariel</td>\n",
              "      <td>Taisto Kasurinen is a Finnish coal miner whose...</td>\n",
              "      <td>['Drama', 'Crime']</td>\n",
              "    </tr>\n",
              "    <tr>\n",
              "      <th>1</th>\n",
              "      <td>3</td>\n",
              "      <td>Shadows in Paradise</td>\n",
              "      <td>An episode in the life of Nikander, a garbage ...</td>\n",
              "      <td>['Drama', 'Comedy']</td>\n",
              "    </tr>\n",
              "    <tr>\n",
              "      <th>2</th>\n",
              "      <td>5</td>\n",
              "      <td>Four Rooms</td>\n",
              "      <td>It's Ted the Bellhop's first night on the job....</td>\n",
              "      <td>['Crime', 'Comedy']</td>\n",
              "    </tr>\n",
              "    <tr>\n",
              "      <th>3</th>\n",
              "      <td>6</td>\n",
              "      <td>Judgment Night</td>\n",
              "      <td>While racing to a boxing match, Frank, Mike, J...</td>\n",
              "      <td>['Action', 'Thriller', 'Crime']</td>\n",
              "    </tr>\n",
              "    <tr>\n",
              "      <th>4</th>\n",
              "      <td>11</td>\n",
              "      <td>Star Wars</td>\n",
              "      <td>Princess Leia is captured and held hostage by ...</td>\n",
              "      <td>['Adventure', 'Action', 'ScienceFiction']</td>\n",
              "    </tr>\n",
              "    <tr>\n",
              "      <th>...</th>\n",
              "      <td>...</td>\n",
              "      <td>...</td>\n",
              "      <td>...</td>\n",
              "      <td>...</td>\n",
              "    </tr>\n",
              "    <tr>\n",
              "      <th>44442</th>\n",
              "      <td>464819</td>\n",
              "      <td>The Making of 'The Terminator': A Retrospective</td>\n",
              "      <td>An interview session with Arnold Schwarzenegge...</td>\n",
              "      <td>['Documentary']</td>\n",
              "    </tr>\n",
              "    <tr>\n",
              "      <th>44443</th>\n",
              "      <td>465044</td>\n",
              "      <td>Abduction</td>\n",
              "      <td>A horror comedy spoofing conspiracy theory mov...</td>\n",
              "      <td>['Fantasy', 'Drama']</td>\n",
              "    </tr>\n",
              "    <tr>\n",
              "      <th>44444</th>\n",
              "      <td>467731</td>\n",
              "      <td>Tragedy in a Temporary Town</td>\n",
              "      <td>Fifteen-year-old girl Dotty Fisher is assaulte...</td>\n",
              "      <td>['Drama']</td>\n",
              "    </tr>\n",
              "    <tr>\n",
              "      <th>44445</th>\n",
              "      <td>468343</td>\n",
              "      <td>Silja - nuorena nukkunut</td>\n",
              "      <td>In the 1910s, beautiful young Silja loses both...</td>\n",
              "      <td>['Drama', 'Romance']</td>\n",
              "    </tr>\n",
              "    <tr>\n",
              "      <th>44446</th>\n",
              "      <td>469172</td>\n",
              "      <td>Manuel on the Island of Wonders</td>\n",
              "      <td>Manuel is a young boy who travels from long ag...</td>\n",
              "      <td>['Fantasy', 'Drama']</td>\n",
              "    </tr>\n",
              "  </tbody>\n",
              "</table>\n",
              "<p>44447 rows × 4 columns</p>\n",
              "</div>"
            ],
            "text/plain": [
              "           id  ...                                   category\n",
              "0           2  ...                         ['Drama', 'Crime']\n",
              "1           3  ...                        ['Drama', 'Comedy']\n",
              "2           5  ...                        ['Crime', 'Comedy']\n",
              "3           6  ...            ['Action', 'Thriller', 'Crime']\n",
              "4          11  ...  ['Adventure', 'Action', 'ScienceFiction']\n",
              "...       ...  ...                                        ...\n",
              "44442  464819  ...                            ['Documentary']\n",
              "44443  465044  ...                       ['Fantasy', 'Drama']\n",
              "44444  467731  ...                                  ['Drama']\n",
              "44445  468343  ...                       ['Drama', 'Romance']\n",
              "44446  469172  ...                       ['Fantasy', 'Drama']\n",
              "\n",
              "[44447 rows x 4 columns]"
            ]
          },
          "metadata": {
            "tags": []
          },
          "execution_count": 46
        }
      ]
    },
    {
      "cell_type": "code",
      "metadata": {
        "id": "D6pAuRUOVQKA"
      },
      "source": [
        "users_tb = pd.read_sql_query('SELECT * FROM USERS',con)"
      ],
      "execution_count": 47,
      "outputs": []
    },
    {
      "cell_type": "code",
      "metadata": {
        "colab": {
          "base_uri": "https://localhost:8080/",
          "height": 204
        },
        "id": "r3Ef-iBEVVqS",
        "outputId": "e2f69b45-2f0b-4d42-d729-4ce107e53908"
      },
      "source": [
        "users_tb.head()"
      ],
      "execution_count": 48,
      "outputs": [
        {
          "output_type": "execute_result",
          "data": {
            "text/html": [
              "<div>\n",
              "<style scoped>\n",
              "    .dataframe tbody tr th:only-of-type {\n",
              "        vertical-align: middle;\n",
              "    }\n",
              "\n",
              "    .dataframe tbody tr th {\n",
              "        vertical-align: top;\n",
              "    }\n",
              "\n",
              "    .dataframe thead th {\n",
              "        text-align: right;\n",
              "    }\n",
              "</style>\n",
              "<table border=\"1\" class=\"dataframe\">\n",
              "  <thead>\n",
              "    <tr style=\"text-align: right;\">\n",
              "      <th></th>\n",
              "      <th>id</th>\n",
              "      <th>movie_id</th>\n",
              "      <th>rating</th>\n",
              "    </tr>\n",
              "  </thead>\n",
              "  <tbody>\n",
              "    <tr>\n",
              "      <th>0</th>\n",
              "      <td>1</td>\n",
              "      <td>110</td>\n",
              "      <td>1.0</td>\n",
              "    </tr>\n",
              "    <tr>\n",
              "      <th>1</th>\n",
              "      <td>1</td>\n",
              "      <td>112552</td>\n",
              "      <td>5.0</td>\n",
              "    </tr>\n",
              "    <tr>\n",
              "      <th>2</th>\n",
              "      <td>1</td>\n",
              "      <td>99114</td>\n",
              "      <td>4.0</td>\n",
              "    </tr>\n",
              "    <tr>\n",
              "      <th>3</th>\n",
              "      <td>1</td>\n",
              "      <td>98809</td>\n",
              "      <td>0.5</td>\n",
              "    </tr>\n",
              "    <tr>\n",
              "      <th>4</th>\n",
              "      <td>1</td>\n",
              "      <td>96821</td>\n",
              "      <td>5.0</td>\n",
              "    </tr>\n",
              "  </tbody>\n",
              "</table>\n",
              "</div>"
            ],
            "text/plain": [
              "   id  movie_id  rating\n",
              "0   1       110     1.0\n",
              "1   1    112552     5.0\n",
              "2   1     99114     4.0\n",
              "3   1     98809     0.5\n",
              "4   1     96821     5.0"
            ]
          },
          "metadata": {
            "tags": []
          },
          "execution_count": 48
        }
      ]
    },
    {
      "cell_type": "code",
      "metadata": {
        "id": "jbsrsWxwOXKR"
      },
      "source": [
        "con.close()"
      ],
      "execution_count": 49,
      "outputs": []
    },
    {
      "cell_type": "markdown",
      "metadata": {
        "id": "Sq4jS6A6Vlrv"
      },
      "source": [
        "# Spark Querying Data"
      ]
    },
    {
      "cell_type": "code",
      "metadata": {
        "id": "MuFStvJvxIlm"
      },
      "source": [
        "%%capture\n",
        "!pip install pyspark"
      ],
      "execution_count": 50,
      "outputs": []
    },
    {
      "cell_type": "code",
      "metadata": {
        "id": "YRndr3gNVpHP"
      },
      "source": [
        "import pyspark"
      ],
      "execution_count": 51,
      "outputs": []
    },
    {
      "cell_type": "code",
      "metadata": {
        "colab": {
          "base_uri": "https://localhost:8080/"
        },
        "id": "3i8H7HeS28yw",
        "outputId": "01d0e82e-404f-46fe-e733-6896a4ac3cd2"
      },
      "source": [
        "!wget https://repo1.maven.org/maven2/org/xerial/sqlite-jdbc/3.34.0/sqlite-jdbc-3.34.0.jar"
      ],
      "execution_count": 52,
      "outputs": [
        {
          "output_type": "stream",
          "text": [
            "--2021-03-30 22:37:13--  https://repo1.maven.org/maven2/org/xerial/sqlite-jdbc/3.34.0/sqlite-jdbc-3.34.0.jar\n",
            "Resolving repo1.maven.org (repo1.maven.org)... 199.232.192.209, 199.232.196.209\n",
            "Connecting to repo1.maven.org (repo1.maven.org)|199.232.192.209|:443... connected.\n",
            "HTTP request sent, awaiting response... 200 OK\n",
            "Length: 7296329 (7.0M) [application/java-archive]\n",
            "Saving to: ‘sqlite-jdbc-3.34.0.jar’\n",
            "\n",
            "sqlite-jdbc-3.34.0. 100%[===================>]   6.96M  31.4MB/s    in 0.2s    \n",
            "\n",
            "2021-03-30 22:37:13 (31.4 MB/s) - ‘sqlite-jdbc-3.34.0.jar’ saved [7296329/7296329]\n",
            "\n"
          ],
          "name": "stdout"
        }
      ]
    },
    {
      "cell_type": "code",
      "metadata": {
        "id": "UB80ZDh9xg9p"
      },
      "source": [
        "#spark session\n",
        "spark = pyspark.sql.SparkSession \\\n",
        ".builder \\\n",
        ".appName('Python Spark SQL basic example') \\\n",
        ".config('spark.driver.extraClassPath',\"/content/gdrive/MyDrive/Movie_DB/sqlite-jdbc-3.34.0.jar\") \\\n",
        ".getOrCreate()"
      ],
      "execution_count": 53,
      "outputs": []
    },
    {
      "cell_type": "code",
      "metadata": {
        "id": "O76xZ0B85fb4"
      },
      "source": [
        "#sqlcontext da spark session\n",
        "from pyspark.sql import SQLContext\n",
        "sqlContext = SQLContext(sparkContext=spark.sparkContext, sparkSession=spark)"
      ],
      "execution_count": 54,
      "outputs": []
    },
    {
      "cell_type": "code",
      "metadata": {
        "id": "i_4oEbm54ly_"
      },
      "source": [
        "#ler a tabela MOVIES utilizando o jdbc do sqlite\n",
        "movies_df = sqlContext.read \\\n",
        ".format(\"jdbc\") \\\n",
        ".options(url =\"jdbc:sqlite:/content/gdrive/MyDrive/Movie_DB/MoviesDB.db\", driver=\"org.sqlite.JDBC\", dbtable=\"MOVIES\") \\\n",
        ".load()"
      ],
      "execution_count": 55,
      "outputs": []
    },
    {
      "cell_type": "code",
      "metadata": {
        "colab": {
          "base_uri": "https://localhost:8080/"
        },
        "id": "VG8rkH2U56kB",
        "outputId": "58e90755-ffdc-4da4-a036-d67b860595dd"
      },
      "source": [
        "movies_df.show()"
      ],
      "execution_count": 56,
      "outputs": [
        {
          "output_type": "stream",
          "text": [
            "+---+--------------------+--------------------+--------------------+\n",
            "| id|                name|         description|            category|\n",
            "+---+--------------------+--------------------+--------------------+\n",
            "|  2|               Ariel|Taisto Kasurinen ...|  ['Drama', 'Crime']|\n",
            "|  3| Shadows in Paradise|An episode in the...| ['Drama', 'Comedy']|\n",
            "|  5|          Four Rooms|It's Ted the Bell...| ['Crime', 'Comedy']|\n",
            "|  6|      Judgment Night|While racing to a...|['Action', 'Thril...|\n",
            "| 11|           Star Wars|Princess Leia is ...|['Adventure', 'Ac...|\n",
            "| 12|        Finding Nemo|Nemo, an adventur...|['Animation', 'Fa...|\n",
            "| 13|        Forrest Gump|A man with a low ...|['Comedy', 'Drama...|\n",
            "| 14|     American Beauty|Lester Burnham, a...|           ['Drama']|\n",
            "| 15|        Citizen Kane|Newspaper magnate...|['Mystery', 'Drama']|\n",
            "| 16|  Dancer in the Dark|Selma, a Czech im...|['Drama', 'Crime'...|\n",
            "| 17|            The Dark|Adèle and her dau...|['Horror', 'Thril...|\n",
            "| 18|   The Fifth Element|In 2257, a taxi d...|['Adventure', 'Fa...|\n",
            "| 19|          Metropolis|In a futuristic c...|['Drama', 'Scienc...|\n",
            "| 20|  My Life Without Me|A Pedro Almodovar...|['Drama', 'Romance']|\n",
            "| 21|  The Endless Summer|The Endless Summe...|     ['Documentary']|\n",
            "| 22|Pirates of the Ca...|Jack Sparrow, a f...|['Adventure', 'Fa...|\n",
            "| 24|   Kill Bill: Vol. 1|An assassin is sh...| ['Action', 'Crime']|\n",
            "| 25|             Jarhead|Jarhead is a film...|    ['Drama', 'War']|\n",
            "| 26|       Walk on Water|Eyal, an Israeli ...|           ['Drama']|\n",
            "| 27|             9 Songs|Matt, a young gla...|['Drama', 'Music'...|\n",
            "+---+--------------------+--------------------+--------------------+\n",
            "only showing top 20 rows\n",
            "\n"
          ],
          "name": "stdout"
        }
      ]
    },
    {
      "cell_type": "code",
      "metadata": {
        "colab": {
          "base_uri": "https://localhost:8080/"
        },
        "id": "tbXIeSsM6aPK",
        "outputId": "53ed48dd-0561-4b27-b512-bbf20a964ac2"
      },
      "source": [
        "movies_df.printSchema()"
      ],
      "execution_count": 57,
      "outputs": [
        {
          "output_type": "stream",
          "text": [
            "root\n",
            " |-- id: integer (nullable = true)\n",
            " |-- name: string (nullable = true)\n",
            " |-- description: string (nullable = true)\n",
            " |-- category: string (nullable = true)\n",
            "\n"
          ],
          "name": "stdout"
        }
      ]
    },
    {
      "cell_type": "code",
      "metadata": {
        "id": "QTHKCOf_6lJx"
      },
      "source": [
        "users_df = sqlContext.read \\\n",
        ".format(\"jdbc\") \\\n",
        ".options(url =\"jdbc:sqlite:/content/gdrive/MyDrive/Movie_DB/MoviesDB.db\", driver=\"org.sqlite.JDBC\", dbtable=\"USERS\") \\\n",
        ".load()"
      ],
      "execution_count": 58,
      "outputs": []
    },
    {
      "cell_type": "code",
      "metadata": {
        "colab": {
          "base_uri": "https://localhost:8080/"
        },
        "id": "PqQE_XxH6pnx",
        "outputId": "5cf9f41e-4888-4cae-a353-150f84c03e9d"
      },
      "source": [
        "users_df.show()"
      ],
      "execution_count": 59,
      "outputs": [
        {
          "output_type": "stream",
          "text": [
            "+---+--------+------+\n",
            "| id|movie_id|rating|\n",
            "+---+--------+------+\n",
            "|  1|     110|   1.0|\n",
            "|  1|  112552|   5.0|\n",
            "|  1|   99114|   4.0|\n",
            "|  1|   98809|   0.5|\n",
            "|  1|   96821|   5.0|\n",
            "|  1|   92439|   5.0|\n",
            "|  1|   91542|   5.0|\n",
            "|  1|   91500|   2.5|\n",
            "|  1|   81834|   5.0|\n",
            "|  1|   69844|   5.0|\n",
            "|  1|   68358|   5.0|\n",
            "|  1|   59315|   5.0|\n",
            "|  1|   58559|   4.0|\n",
            "|  1|   73017|   5.0|\n",
            "|  1|   33794|   4.0|\n",
            "|  1|     147|   4.5|\n",
            "|  1|   54503|   3.5|\n",
            "|  1|    1221|   5.0|\n",
            "|  1|    1246|   5.0|\n",
            "|  1|    1968|   4.0|\n",
            "+---+--------+------+\n",
            "only showing top 20 rows\n",
            "\n"
          ],
          "name": "stdout"
        }
      ]
    },
    {
      "cell_type": "code",
      "metadata": {
        "colab": {
          "base_uri": "https://localhost:8080/"
        },
        "id": "2m-zpY6e6vhf",
        "outputId": "7bb4fedf-3b32-4c82-9ed4-b94be4127bae"
      },
      "source": [
        "users_df.printSchema()"
      ],
      "execution_count": 60,
      "outputs": [
        {
          "output_type": "stream",
          "text": [
            "root\n",
            " |-- id: integer (nullable = true)\n",
            " |-- movie_id: integer (nullable = true)\n",
            " |-- rating: double (nullable = true)\n",
            "\n"
          ],
          "name": "stdout"
        }
      ]
    },
    {
      "cell_type": "code",
      "metadata": {
        "colab": {
          "base_uri": "https://localhost:8080/"
        },
        "id": "83ptFW5O6idN",
        "outputId": "8aacbf47-adf5-4ef3-f2b1-b5cf181df7fc"
      },
      "source": [
        "#média dos rating por filme, utilizando dados apenas da tabela users\n",
        "avg_rating = users_df.groupBy(\"movie_id\").mean(\"rating\")\n",
        "avg_rating.show()"
      ],
      "execution_count": 61,
      "outputs": [
        {
          "output_type": "stream",
          "text": [
            "+--------+------------------+\n",
            "|movie_id|       avg(rating)|\n",
            "+--------+------------------+\n",
            "|    1645| 3.516589990241182|\n",
            "|    3175| 3.586550320670942|\n",
            "|    1591|2.6416020262782967|\n",
            "|    1580|3.5733178489322874|\n",
            "|   68135| 3.097457627118644|\n",
            "|    1088| 3.239810636881426|\n",
            "|     471| 3.654817548175482|\n",
            "|    1959|3.6369782971619364|\n",
            "|    2122| 2.634513274336283|\n",
            "|    2866|3.6019714479945617|\n",
            "|   36525|3.4823726916620035|\n",
            "|    3997| 2.077287716405606|\n",
            "|    3918|2.9595715272978578|\n",
            "|    6620| 3.789404132628544|\n",
            "|    1238|3.9629796163069546|\n",
            "|    2142| 3.038054538054538|\n",
            "|    8638|3.9675026123301986|\n",
            "|    2366|3.4740872335211956|\n",
            "|    1342|2.9637979902087093|\n",
            "|    3794| 3.250574712643678|\n",
            "+--------+------------------+\n",
            "only showing top 20 rows\n",
            "\n"
          ],
          "name": "stdout"
        }
      ]
    },
    {
      "cell_type": "code",
      "metadata": {
        "colab": {
          "base_uri": "https://localhost:8080/"
        },
        "id": "m9iEwKW-RDT7",
        "outputId": "893c5593-be08-4ada-ad1a-3b377901331e"
      },
      "source": [
        "avg_rating.count()"
      ],
      "execution_count": 62,
      "outputs": [
        {
          "output_type": "execute_result",
          "data": {
            "text/plain": [
              "45115"
            ]
          },
          "metadata": {
            "tags": []
          },
          "execution_count": 62
        }
      ]
    },
    {
      "cell_type": "code",
      "metadata": {
        "colab": {
          "base_uri": "https://localhost:8080/"
        },
        "id": "PkeQzHOx7Qe3",
        "outputId": "1959cf50-9059-4d37-a683-939b0657e430"
      },
      "source": [
        "#realizar um join com a movies table para apresentar o nome dos filmes, join pelo id\n",
        "movie_avg_rating = movies_df.join(avg_rating,movies_df.id==avg_rating.movie_id)\n",
        "movie_avg_rating.show()"
      ],
      "execution_count": 63,
      "outputs": [
        {
          "output_type": "stream",
          "text": [
            "+----+--------------------+--------------------+--------------------+--------+------------------+\n",
            "|  id|                name|         description|            category|movie_id|       avg(rating)|\n",
            "+----+--------------------+--------------------+--------------------+--------+------------------+\n",
            "| 148|The Secret Life o...|A touching story ...|['Drama', 'Romance']|     148|  2.90994623655914|\n",
            "| 471|             Bandyta|Bastard depicts t...|           ['Drama']|     471| 3.654817548175482|\n",
            "| 496|Borat: Cultural L...|Kazakh journalist...|          ['Comedy']|     496|3.2919621749408985|\n",
            "| 833|          Umberto D.|Umberto Domenico ...|           ['Drama']|     833|2.7146546158812135|\n",
            "|1088|         Whale Rider|On the east coast...| ['Drama', 'Family']|    1088| 3.239810636881426|\n",
            "|1580|                Rope|Two young men str...|['Crime', 'Drama'...|    1580|3.5733178489322874|\n",
            "|1591|   Nowhere in Africa|A Jewish woman na...|           ['Drama']|    1591|2.6416020262782967|\n",
            "|1645|      A Time to Kill|A young lawyer de...|['Crime', 'Drama'...|    1645| 3.516589990241182|\n",
            "|1829|The Story of Adele H|Adèle Hugo, daugh...|['Drama', 'Histor...|    1829|3.0827586206896553|\n",
            "|1959|  Swept from the Sea|The film tells th...|['Drama', 'Romance']|    1959|3.6369782971619364|\n",
            "|2122| The Whole Ten Yards|Jimmy 'The Tulip'...|['Comedy', 'Thril...|    2122| 2.634513274336283|\n",
            "|2142|            Cop Land|Freddy Heflin is ...|['Action', 'Crime...|    2142| 3.038054538054538|\n",
            "|3175|        Barry Lyndon|In the Eighteenth...|['Drama', 'Romanc...|    3175| 3.586550320670942|\n",
            "|4519|Conversations wit...|A successful arti...| ['Comedy', 'Drama']|    4519| 3.315129449838188|\n",
            "|4935|Howl's Moving Castle|When Sophie, a sh...|['Fantasy', 'Anim...|    4935|3.4479166666666665|\n",
            "|5156|     Bicycle Thieves|Antonio, an unemp...|           ['Drama']|    5156|2.9871794871794872|\n",
            "|6466|    Freddy vs. Jason|Evil dream-demon ...|          ['Horror']|    6466|3.5605381165919283|\n",
            "|6620|             Sabrina|Linus and David L...|['Comedy', 'Drama...|    6620| 3.789404132628544|\n",
            "|7340|              Carrie|Carrie may be ost...|['Horror', 'Thril...|    7340|2.9587020648967552|\n",
            "|8592|          Dick Tracy|The comic strip d...|['Adventure', 'Ac...|    8592|              3.25|\n",
            "+----+--------------------+--------------------+--------------------+--------+------------------+\n",
            "only showing top 20 rows\n",
            "\n"
          ],
          "name": "stdout"
        }
      ]
    },
    {
      "cell_type": "code",
      "metadata": {
        "colab": {
          "base_uri": "https://localhost:8080/"
        },
        "id": "AW8E9v_HIWV0",
        "outputId": "bd4c1f5d-f97c-4df8-bf7e-68665a9b303c"
      },
      "source": [
        "movie_avg_rating.count()"
      ],
      "execution_count": 64,
      "outputs": [
        {
          "output_type": "execute_result",
          "data": {
            "text/plain": [
              "7433"
            ]
          },
          "metadata": {
            "tags": []
          },
          "execution_count": 64
        }
      ]
    },
    {
      "cell_type": "code",
      "metadata": {
        "id": "JY8mc-hKyMwZ"
      },
      "source": [
        "url = \"jdbc:sqlite:/content/gdrive/MyDrive/Movie_DB/MoviesDB.db\"\n",
        "tablename = \"MOVIES_RATING\"\n",
        "driver = \"org.sqlite.JDBC\"\n",
        "mode = \"overwrite\""
      ],
      "execution_count": 65,
      "outputs": []
    },
    {
      "cell_type": "code",
      "metadata": {
        "id": "ZDKqw_2UzU4k"
      },
      "source": [
        "#criando table com base no dataframe\n",
        "movie_avg_rating.write.format(\"jdbc\").mode(mode).option(\"url\", url).option(\"dbtable\", tablename).option(\"driver\",driver).option(\"numPartitions\",1).save()"
      ],
      "execution_count": 66,
      "outputs": []
    },
    {
      "cell_type": "code",
      "metadata": {
        "colab": {
          "base_uri": "https://localhost:8080/"
        },
        "id": "GgQKzMSix64s",
        "outputId": "e87fff78-4c89-4ee5-f5c6-9526a4807cb6"
      },
      "source": [
        "movie_avg_rating.cache()"
      ],
      "execution_count": 67,
      "outputs": [
        {
          "output_type": "execute_result",
          "data": {
            "text/plain": [
              "DataFrame[id: int, name: string, description: string, category: string, movie_id: int, avg(rating): double]"
            ]
          },
          "metadata": {
            "tags": []
          },
          "execution_count": 67
        }
      ]
    },
    {
      "cell_type": "code",
      "metadata": {
        "id": "DCJ2Dr0kKue6"
      },
      "source": [
        "movies_rating_df = sqlContext.read \\\n",
        ".format(\"jdbc\") \\\n",
        ".options(url =\"jdbc:sqlite:/content/gdrive/MyDrive/Movie_DB/MoviesDB.db\", driver=\"org.sqlite.JDBC\", dbtable=\"MOVIES_RATING\") \\\n",
        ".load()"
      ],
      "execution_count": 68,
      "outputs": []
    },
    {
      "cell_type": "code",
      "metadata": {
        "colab": {
          "base_uri": "https://localhost:8080/"
        },
        "id": "bZl41TXqKzzI",
        "outputId": "08381792-391d-432e-c48b-9d9eeef97c65"
      },
      "source": [
        "movies_rating_df.show()"
      ],
      "execution_count": 69,
      "outputs": [
        {
          "output_type": "stream",
          "text": [
            "+----+--------------------+--------------------+--------------------+--------+------------------+\n",
            "|  id|                name|         description|            category|movie_id|       avg(rating)|\n",
            "+----+--------------------+--------------------+--------------------+--------+------------------+\n",
            "| 148|The Secret Life o...|A touching story ...|['Drama', 'Romance']|     148|  2.90994623655914|\n",
            "| 471|             Bandyta|Bastard depicts t...|           ['Drama']|     471| 3.654817548175482|\n",
            "| 496|Borat: Cultural L...|Kazakh journalist...|          ['Comedy']|     496|3.2919621749408985|\n",
            "| 833|          Umberto D.|Umberto Domenico ...|           ['Drama']|     833|2.7146546158812135|\n",
            "|1088|         Whale Rider|On the east coast...| ['Drama', 'Family']|    1088| 3.239810636881426|\n",
            "|1580|                Rope|Two young men str...|['Crime', 'Drama'...|    1580|3.5733178489322874|\n",
            "|1591|   Nowhere in Africa|A Jewish woman na...|           ['Drama']|    1591|2.6416020262782967|\n",
            "|1645|      A Time to Kill|A young lawyer de...|['Crime', 'Drama'...|    1645| 3.516589990241182|\n",
            "|1829|The Story of Adele H|Adèle Hugo, daugh...|['Drama', 'Histor...|    1829|3.0827586206896553|\n",
            "|1959|  Swept from the Sea|The film tells th...|['Drama', 'Romance']|    1959|3.6369782971619364|\n",
            "|2122| The Whole Ten Yards|Jimmy 'The Tulip'...|['Comedy', 'Thril...|    2122| 2.634513274336283|\n",
            "|2142|            Cop Land|Freddy Heflin is ...|['Action', 'Crime...|    2142| 3.038054538054538|\n",
            "|3175|        Barry Lyndon|In the Eighteenth...|['Drama', 'Romanc...|    3175| 3.586550320670942|\n",
            "|4519|Conversations wit...|A successful arti...| ['Comedy', 'Drama']|    4519| 3.315129449838188|\n",
            "|4935|Howl's Moving Castle|When Sophie, a sh...|['Fantasy', 'Anim...|    4935|3.4479166666666665|\n",
            "|5156|     Bicycle Thieves|Antonio, an unemp...|           ['Drama']|    5156|2.9871794871794872|\n",
            "|6466|    Freddy vs. Jason|Evil dream-demon ...|          ['Horror']|    6466|3.5605381165919283|\n",
            "|6620|             Sabrina|Linus and David L...|['Comedy', 'Drama...|    6620| 3.789404132628544|\n",
            "|7340|              Carrie|Carrie may be ost...|['Horror', 'Thril...|    7340|2.9587020648967552|\n",
            "|8592|          Dick Tracy|The comic strip d...|['Adventure', 'Ac...|    8592|              3.25|\n",
            "+----+--------------------+--------------------+--------------------+--------+------------------+\n",
            "only showing top 20 rows\n",
            "\n"
          ],
          "name": "stdout"
        }
      ]
    },
    {
      "cell_type": "code",
      "metadata": {
        "colab": {
          "base_uri": "https://localhost:8080/"
        },
        "id": "jc0RoLjiQLYD",
        "outputId": "ef4d7791-3e1f-452a-99f9-9372f816bf29"
      },
      "source": [
        "movies_rating_df.count()"
      ],
      "execution_count": 70,
      "outputs": [
        {
          "output_type": "execute_result",
          "data": {
            "text/plain": [
              "7433"
            ]
          },
          "metadata": {
            "tags": []
          },
          "execution_count": 70
        }
      ]
    }
  ]
}
